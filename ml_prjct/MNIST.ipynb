{
 "cells": [
  {
   "cell_type": "code",
   "execution_count": 127,
   "metadata": {},
   "outputs": [],
   "source": [
    "import tensorflow as tf"
   ]
  },
  {
   "cell_type": "code",
   "execution_count": 128,
   "metadata": {},
   "outputs": [],
   "source": [
    "import numpy as np\n",
    "import pandas as pd\n",
    "import sklearn \n",
    "import sklearn.datasets\n",
    "import sklearn.model_selection"
   ]
  },
  {
   "cell_type": "code",
   "execution_count": 129,
   "metadata": {},
   "outputs": [],
   "source": [
    "import os\n",
    "os.environ[\"TF_CPP_MIN_LOG_LEVEL\"]=\"3\""
   ]
  },
  {
   "cell_type": "code",
   "execution_count": 130,
   "metadata": {},
   "outputs": [
    {
     "data": {
      "text/plain": [
       "0"
      ]
     },
     "execution_count": 130,
     "metadata": {},
     "output_type": "execute_result"
    }
   ],
   "source": [
    "mnists=sklearn.datasets.load_digits()\n",
    "mnists.target_names[0]"
   ]
  },
  {
   "cell_type": "code",
   "execution_count": 131,
   "metadata": {},
   "outputs": [
    {
     "data": {
      "text/plain": [
       "Index(['0', '1', '2', '3', '4', '5', '6', '7', '8', '9', '10', '11', '12',\n",
       "       '13', '14', '15', '16', '17', '18', '19', '20', '21', '22', '23', '24',\n",
       "       '25', '26', '27', '28', '29', '30', '31', '32', '33', '34', '35', '36',\n",
       "       '37', '38', '39', '40', '41', '42', '43', '44', '45', '46', '47', '48',\n",
       "       '49', '50', '51', '52', '53', '54', '55', '56', '57', '58', '59', '60',\n",
       "       '61', '62', '63'],\n",
       "      dtype='object')"
      ]
     },
     "execution_count": 131,
     "metadata": {},
     "output_type": "execute_result"
    }
   ],
   "source": [
    "df=pd.DataFrame(mnists.data,columns=[str(i) for i in range(64)])\n",
    "df.keys()"
   ]
  },
  {
   "cell_type": "code",
   "execution_count": 169,
   "metadata": {},
   "outputs": [],
   "source": [
    "feature_columns=[tf.contrib.layers.feature_column.real_valued_column(key) for key in df.keys()]"
   ]
  },
  {
   "cell_type": "code",
   "execution_count": 170,
   "metadata": {},
   "outputs": [
    {
     "data": {
      "text/plain": [
       "64"
      ]
     },
     "execution_count": 170,
     "metadata": {},
     "output_type": "execute_result"
    }
   ],
   "source": [
    "len(feature_columns)"
   ]
  },
  {
   "cell_type": "code",
   "execution_count": 177,
   "metadata": {},
   "outputs": [
    {
     "name": "stdout",
     "output_type": "stream",
     "text": [
      "INFO:tensorflow:Using default config.\n",
      "WARNING:tensorflow:Using temporary folder as model directory: C:\\Users\\Rahul\\AppData\\Local\\Temp\\tmpecu0acga\n",
      "INFO:tensorflow:Using config: {'_model_dir': 'C:\\\\Users\\\\Rahul\\\\AppData\\\\Local\\\\Temp\\\\tmpecu0acga', '_tf_random_seed': None, '_save_summary_steps': 100, '_save_checkpoints_steps': None, '_save_checkpoints_secs': 600, '_session_config': None, '_keep_checkpoint_max': 5, '_keep_checkpoint_every_n_hours': 10000, '_log_step_count_steps': 100, '_train_distribute': None, '_device_fn': None, '_service': None, '_cluster_spec': <tensorflow.python.training.server_lib.ClusterSpec object at 0x00000225BE8184A8>, '_task_type': 'worker', '_task_id': 0, '_global_id_in_cluster': 0, '_master': '', '_evaluation_master': '', '_is_chief': True, '_num_ps_replicas': 0, '_num_worker_replicas': 1}\n"
     ]
    }
   ],
   "source": [
    "estimator=tf.estimator.DNNClassifier(feature_columns=feature_columns,\n",
    "                                      hidden_units=[256,128],\n",
    "                                      n_classes=10)"
   ]
  },
  {
   "cell_type": "code",
   "execution_count": null,
   "metadata": {},
   "outputs": [],
   "source": []
  },
  {
   "cell_type": "code",
   "execution_count": 178,
   "metadata": {},
   "outputs": [],
   "source": [
    "def my_input_fn():\n",
    "    x=df\n",
    "    y=mnists.target\n",
    "    x_train,x_test,y_train,y_test=sklearn.model_selection.train_test_split(x,y,test_size=0.2)\n",
    "    \n",
    "    return x_train,x_test,y_train,y_test"
   ]
  },
  {
   "cell_type": "code",
   "execution_count": 179,
   "metadata": {},
   "outputs": [],
   "source": [
    "X_TRAIN,X_TEST,Y_TRAIN,Y_TEST=my_input_fn()\n",
    "def my_input_fn_test():\n",
    "    return dict(X_TEST),Y_TEST"
   ]
  },
  {
   "cell_type": "code",
   "execution_count": 180,
   "metadata": {},
   "outputs": [],
   "source": [
    "def my_train_input_fn():\n",
    "    return dict(X_TRAIN),Y_TRAIN"
   ]
  },
  {
   "cell_type": "code",
   "execution_count": 183,
   "metadata": {},
   "outputs": [
    {
     "name": "stdout",
     "output_type": "stream",
     "text": [
      "INFO:tensorflow:Calling model_fn.\n",
      "INFO:tensorflow:Done calling model_fn.\n",
      "INFO:tensorflow:Create CheckpointSaverHook.\n",
      "INFO:tensorflow:Graph was finalized.\n",
      "INFO:tensorflow:Restoring parameters from C:\\Users\\Rahul\\AppData\\Local\\Temp\\tmpecu0acga\\model.ckpt-100\n",
      "INFO:tensorflow:Running local_init_op.\n",
      "INFO:tensorflow:Done running local_init_op.\n",
      "INFO:tensorflow:Saving checkpoints for 100 into C:\\Users\\Rahul\\AppData\\Local\\Temp\\tmpecu0acga\\model.ckpt.\n",
      "INFO:tensorflow:loss = 14.604066, step = 101\n",
      "INFO:tensorflow:global_step/sec: 64.6245\n",
      "INFO:tensorflow:loss = 4.1788406, step = 201 (1.589 sec)\n",
      "INFO:tensorflow:global_step/sec: 68.9687\n",
      "INFO:tensorflow:loss = 2.1535072, step = 301 (1.408 sec)\n",
      "INFO:tensorflow:global_step/sec: 70.2009\n",
      "INFO:tensorflow:loss = 1.3842896, step = 401 (1.440 sec)\n",
      "INFO:tensorflow:global_step/sec: 68.5396\n",
      "INFO:tensorflow:loss = 0.992516, step = 501 (1.443 sec)\n",
      "INFO:tensorflow:global_step/sec: 70.32\n",
      "INFO:tensorflow:loss = 0.7643304, step = 601 (1.422 sec)\n",
      "INFO:tensorflow:global_step/sec: 71.0569\n",
      "INFO:tensorflow:loss = 0.6135347, step = 701 (1.407 sec)\n",
      "INFO:tensorflow:global_step/sec: 71.2409\n",
      "INFO:tensorflow:loss = 0.50805444, step = 801 (1.406 sec)\n",
      "INFO:tensorflow:global_step/sec: 68.4805\n",
      "INFO:tensorflow:loss = 0.43108276, step = 901 (1.461 sec)\n",
      "INFO:tensorflow:global_step/sec: 68.6661\n",
      "INFO:tensorflow:loss = 0.3727297, step = 1001 (1.457 sec)\n",
      "INFO:tensorflow:Saving checkpoints for 1100 into C:\\Users\\Rahul\\AppData\\Local\\Temp\\tmpecu0acga\\model.ckpt.\n",
      "INFO:tensorflow:Loss for final step: 0.32714933.\n"
     ]
    },
    {
     "data": {
      "text/plain": [
       "<tensorflow.python.estimator.canned.dnn.DNNClassifier at 0x225bbd236a0>"
      ]
     },
     "execution_count": 183,
     "metadata": {},
     "output_type": "execute_result"
    }
   ],
   "source": [
    "estimator.train(input_fn=my_train_input_fn,steps=1000)"
   ]
  },
  {
   "cell_type": "code",
   "execution_count": 184,
   "metadata": {},
   "outputs": [
    {
     "name": "stdout",
     "output_type": "stream",
     "text": [
      "INFO:tensorflow:Calling model_fn.\n",
      "INFO:tensorflow:Done calling model_fn.\n",
      "INFO:tensorflow:Starting evaluation at 2018-07-16-06:20:17\n",
      "INFO:tensorflow:Graph was finalized.\n",
      "INFO:tensorflow:Restoring parameters from C:\\Users\\Rahul\\AppData\\Local\\Temp\\tmpecu0acga\\model.ckpt-1100\n",
      "INFO:tensorflow:Running local_init_op.\n",
      "INFO:tensorflow:Done running local_init_op.\n",
      "INFO:tensorflow:Evaluation [1/1]\n",
      "INFO:tensorflow:Finished evaluation at 2018-07-16-06:20:18\n",
      "INFO:tensorflow:Saving dict for global step 1100: accuracy = 0.9722222, average_loss = 0.12287308, global_step = 1100, loss = 44.23431\n",
      "INFO:tensorflow:Saving 'checkpoint_path' summary for global step 1100: C:\\Users\\Rahul\\AppData\\Local\\Temp\\tmpecu0acga\\model.ckpt-1100\n"
     ]
    },
    {
     "data": {
      "text/plain": [
       "{'accuracy': 0.9722222,\n",
       " 'average_loss': 0.12287308,\n",
       " 'loss': 44.23431,\n",
       " 'global_step': 1100}"
      ]
     },
     "execution_count": 184,
     "metadata": {},
     "output_type": "execute_result"
    }
   ],
   "source": [
    "estimator.evaluate(input_fn=my_input_fn_test,steps=1)"
   ]
  },
  {
   "cell_type": "code",
   "execution_count": null,
   "metadata": {},
   "outputs": [],
   "source": []
  }
 ],
 "metadata": {
  "kernelspec": {
   "display_name": "Python 3",
   "language": "python",
   "name": "python3"
  },
  "language_info": {
   "codemirror_mode": {
    "name": "ipython",
    "version": 3
   },
   "file_extension": ".py",
   "mimetype": "text/x-python",
   "name": "python",
   "nbconvert_exporter": "python",
   "pygments_lexer": "ipython3",
   "version": "3.6.4"
  }
 },
 "nbformat": 4,
 "nbformat_minor": 2
}
