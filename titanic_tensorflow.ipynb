{
 "cells": [
  {
   "cell_type": "code",
   "execution_count": 1,
   "metadata": {},
   "outputs": [
    {
     "name": "stderr",
     "output_type": "stream",
     "text": [
      "C:\\Users\\4shub\\Anaconda3\\lib\\site-packages\\h5py\\__init__.py:36: FutureWarning: Conversion of the second argument of issubdtype from `float` to `np.floating` is deprecated. In future, it will be treated as `np.float64 == np.dtype(float).type`.\n",
      "  from ._conv import register_converters as _register_converters\n"
     ]
    }
   ],
   "source": [
    "import numpy as np\n",
    "import tensorflow as tf\n",
    "import pandas as pd\n",
    "import sklearn \n",
    "import sklearn.model_selection"
   ]
  },
  {
   "cell_type": "code",
   "execution_count": 2,
   "metadata": {},
   "outputs": [],
   "source": [
    "tic=pd.read_csv(\"C:\\\\Users\\\\4shub\\\\Desktop\\\\summertrainning\\\\train.csv\",error_bad_lines=False)\n",
    "df=pd.read_csv(\"C:\\\\Users\\\\4shub\\\\Desktop\\\\summertrainning\\\\train.csv\",error_bad_lines=False)"
   ]
  },
  {
   "cell_type": "code",
   "execution_count": 3,
   "metadata": {},
   "outputs": [],
   "source": [
    "tic=tic.drop([\"Cabin\",\"PassengerId\",\"Name\",\"Fare\",\"Ticket\"],axis=1)"
   ]
  },
  {
   "cell_type": "code",
   "execution_count": 4,
   "metadata": {},
   "outputs": [
    {
     "data": {
      "text/html": [
       "<div>\n",
       "<style scoped>\n",
       "    .dataframe tbody tr th:only-of-type {\n",
       "        vertical-align: middle;\n",
       "    }\n",
       "\n",
       "    .dataframe tbody tr th {\n",
       "        vertical-align: top;\n",
       "    }\n",
       "\n",
       "    .dataframe thead th {\n",
       "        text-align: right;\n",
       "    }\n",
       "</style>\n",
       "<table border=\"1\" class=\"dataframe\">\n",
       "  <thead>\n",
       "    <tr style=\"text-align: right;\">\n",
       "      <th></th>\n",
       "      <th>Survived</th>\n",
       "      <th>Pclass</th>\n",
       "      <th>Sex</th>\n",
       "      <th>Age</th>\n",
       "      <th>SibSp</th>\n",
       "      <th>Parch</th>\n",
       "      <th>Embarked</th>\n",
       "    </tr>\n",
       "  </thead>\n",
       "  <tbody>\n",
       "    <tr>\n",
       "      <th>0</th>\n",
       "      <td>0</td>\n",
       "      <td>3</td>\n",
       "      <td>male</td>\n",
       "      <td>22.0</td>\n",
       "      <td>1</td>\n",
       "      <td>0</td>\n",
       "      <td>S</td>\n",
       "    </tr>\n",
       "    <tr>\n",
       "      <th>1</th>\n",
       "      <td>1</td>\n",
       "      <td>1</td>\n",
       "      <td>female</td>\n",
       "      <td>38.0</td>\n",
       "      <td>1</td>\n",
       "      <td>0</td>\n",
       "      <td>C</td>\n",
       "    </tr>\n",
       "    <tr>\n",
       "      <th>2</th>\n",
       "      <td>1</td>\n",
       "      <td>3</td>\n",
       "      <td>female</td>\n",
       "      <td>26.0</td>\n",
       "      <td>0</td>\n",
       "      <td>0</td>\n",
       "      <td>S</td>\n",
       "    </tr>\n",
       "    <tr>\n",
       "      <th>3</th>\n",
       "      <td>1</td>\n",
       "      <td>1</td>\n",
       "      <td>female</td>\n",
       "      <td>35.0</td>\n",
       "      <td>1</td>\n",
       "      <td>0</td>\n",
       "      <td>S</td>\n",
       "    </tr>\n",
       "    <tr>\n",
       "      <th>4</th>\n",
       "      <td>0</td>\n",
       "      <td>3</td>\n",
       "      <td>male</td>\n",
       "      <td>35.0</td>\n",
       "      <td>0</td>\n",
       "      <td>0</td>\n",
       "      <td>S</td>\n",
       "    </tr>\n",
       "  </tbody>\n",
       "</table>\n",
       "</div>"
      ],
      "text/plain": [
       "   Survived  Pclass     Sex   Age  SibSp  Parch Embarked\n",
       "0         0       3    male  22.0      1      0        S\n",
       "1         1       1  female  38.0      1      0        C\n",
       "2         1       3  female  26.0      0      0        S\n",
       "3         1       1  female  35.0      1      0        S\n",
       "4         0       3    male  35.0      0      0        S"
      ]
     },
     "execution_count": 4,
     "metadata": {},
     "output_type": "execute_result"
    }
   ],
   "source": [
    "tic.head()"
   ]
  },
  {
   "cell_type": "code",
   "execution_count": 5,
   "metadata": {},
   "outputs": [
    {
     "data": {
      "text/plain": [
       "array(['S', 'C', 'Q', nan], dtype=object)"
      ]
     },
     "execution_count": 5,
     "metadata": {},
     "output_type": "execute_result"
    }
   ],
   "source": [
    "tic[\"Embarked\"].unique()"
   ]
  },
  {
   "cell_type": "code",
   "execution_count": 6,
   "metadata": {},
   "outputs": [],
   "source": [
    "tic=tic.join(pd.get_dummies(tic[\"Embarked\"]))\n",
    "tic=tic.join(pd.get_dummies(tic[\"Sex\"]))"
   ]
  },
  {
   "cell_type": "code",
   "execution_count": 7,
   "metadata": {},
   "outputs": [],
   "source": [
    "tic=tic.drop([\"Embarked\"],axis=1)\n",
    "tic=tic.drop([\"Sex\"],axis=1)"
   ]
  },
  {
   "cell_type": "code",
   "execution_count": 8,
   "metadata": {},
   "outputs": [
    {
     "data": {
      "text/html": [
       "<div>\n",
       "<style scoped>\n",
       "    .dataframe tbody tr th:only-of-type {\n",
       "        vertical-align: middle;\n",
       "    }\n",
       "\n",
       "    .dataframe tbody tr th {\n",
       "        vertical-align: top;\n",
       "    }\n",
       "\n",
       "    .dataframe thead th {\n",
       "        text-align: right;\n",
       "    }\n",
       "</style>\n",
       "<table border=\"1\" class=\"dataframe\">\n",
       "  <thead>\n",
       "    <tr style=\"text-align: right;\">\n",
       "      <th></th>\n",
       "      <th>Survived</th>\n",
       "      <th>Pclass</th>\n",
       "      <th>Age</th>\n",
       "      <th>SibSp</th>\n",
       "      <th>Parch</th>\n",
       "      <th>C</th>\n",
       "      <th>Q</th>\n",
       "      <th>S</th>\n",
       "      <th>female</th>\n",
       "      <th>male</th>\n",
       "    </tr>\n",
       "  </thead>\n",
       "  <tbody>\n",
       "    <tr>\n",
       "      <th>0</th>\n",
       "      <td>0</td>\n",
       "      <td>3</td>\n",
       "      <td>22.0</td>\n",
       "      <td>1</td>\n",
       "      <td>0</td>\n",
       "      <td>0</td>\n",
       "      <td>0</td>\n",
       "      <td>1</td>\n",
       "      <td>0</td>\n",
       "      <td>1</td>\n",
       "    </tr>\n",
       "    <tr>\n",
       "      <th>1</th>\n",
       "      <td>1</td>\n",
       "      <td>1</td>\n",
       "      <td>38.0</td>\n",
       "      <td>1</td>\n",
       "      <td>0</td>\n",
       "      <td>1</td>\n",
       "      <td>0</td>\n",
       "      <td>0</td>\n",
       "      <td>1</td>\n",
       "      <td>0</td>\n",
       "    </tr>\n",
       "    <tr>\n",
       "      <th>2</th>\n",
       "      <td>1</td>\n",
       "      <td>3</td>\n",
       "      <td>26.0</td>\n",
       "      <td>0</td>\n",
       "      <td>0</td>\n",
       "      <td>0</td>\n",
       "      <td>0</td>\n",
       "      <td>1</td>\n",
       "      <td>1</td>\n",
       "      <td>0</td>\n",
       "    </tr>\n",
       "    <tr>\n",
       "      <th>3</th>\n",
       "      <td>1</td>\n",
       "      <td>1</td>\n",
       "      <td>35.0</td>\n",
       "      <td>1</td>\n",
       "      <td>0</td>\n",
       "      <td>0</td>\n",
       "      <td>0</td>\n",
       "      <td>1</td>\n",
       "      <td>1</td>\n",
       "      <td>0</td>\n",
       "    </tr>\n",
       "    <tr>\n",
       "      <th>4</th>\n",
       "      <td>0</td>\n",
       "      <td>3</td>\n",
       "      <td>35.0</td>\n",
       "      <td>0</td>\n",
       "      <td>0</td>\n",
       "      <td>0</td>\n",
       "      <td>0</td>\n",
       "      <td>1</td>\n",
       "      <td>0</td>\n",
       "      <td>1</td>\n",
       "    </tr>\n",
       "  </tbody>\n",
       "</table>\n",
       "</div>"
      ],
      "text/plain": [
       "   Survived  Pclass   Age  SibSp  Parch  C  Q  S  female  male\n",
       "0         0       3  22.0      1      0  0  0  1       0     1\n",
       "1         1       1  38.0      1      0  1  0  0       1     0\n",
       "2         1       3  26.0      0      0  0  0  1       1     0\n",
       "3         1       1  35.0      1      0  0  0  1       1     0\n",
       "4         0       3  35.0      0      0  0  0  1       0     1"
      ]
     },
     "execution_count": 8,
     "metadata": {},
     "output_type": "execute_result"
    }
   ],
   "source": [
    "tic.head()"
   ]
  },
  {
   "cell_type": "code",
   "execution_count": 9,
   "metadata": {},
   "outputs": [
    {
     "data": {
      "text/plain": [
       "Index(['Survived', 'Pclass', 'Age', 'SibSp', 'Parch', 'C', 'Q', 'S', 'female',\n",
       "       'male'],\n",
       "      dtype='object')"
      ]
     },
     "execution_count": 9,
     "metadata": {},
     "output_type": "execute_result"
    }
   ],
   "source": [
    "tic.keys()"
   ]
  },
  {
   "cell_type": "code",
   "execution_count": 10,
   "metadata": {},
   "outputs": [],
   "source": [
    "feature_columns=[]\n",
    "for key in tic.keys():\n",
    "    if key=='Survived':\n",
    "        continue\n",
    "    feature_columns.append(tf.feature_column.numeric_column(key=key))"
   ]
  },
  {
   "cell_type": "code",
   "execution_count": 11,
   "metadata": {},
   "outputs": [
    {
     "data": {
      "text/plain": [
       "[_NumericColumn(key='Pclass', shape=(1,), default_value=None, dtype=tf.float32, normalizer_fn=None),\n",
       " _NumericColumn(key='Age', shape=(1,), default_value=None, dtype=tf.float32, normalizer_fn=None),\n",
       " _NumericColumn(key='SibSp', shape=(1,), default_value=None, dtype=tf.float32, normalizer_fn=None),\n",
       " _NumericColumn(key='Parch', shape=(1,), default_value=None, dtype=tf.float32, normalizer_fn=None),\n",
       " _NumericColumn(key='C', shape=(1,), default_value=None, dtype=tf.float32, normalizer_fn=None),\n",
       " _NumericColumn(key='Q', shape=(1,), default_value=None, dtype=tf.float32, normalizer_fn=None),\n",
       " _NumericColumn(key='S', shape=(1,), default_value=None, dtype=tf.float32, normalizer_fn=None),\n",
       " _NumericColumn(key='female', shape=(1,), default_value=None, dtype=tf.float32, normalizer_fn=None),\n",
       " _NumericColumn(key='male', shape=(1,), default_value=None, dtype=tf.float32, normalizer_fn=None)]"
      ]
     },
     "execution_count": 11,
     "metadata": {},
     "output_type": "execute_result"
    }
   ],
   "source": [
    "feature_columns"
   ]
  },
  {
   "cell_type": "code",
   "execution_count": 19,
   "metadata": {},
   "outputs": [
    {
     "name": "stdout",
     "output_type": "stream",
     "text": [
      "INFO:tensorflow:Using default config.\n",
      "WARNING:tensorflow:Using temporary folder as model directory: C:\\Users\\4shub\\AppData\\Local\\Temp\\tmp2k0mp5c_\n",
      "INFO:tensorflow:Using config: {'_model_dir': 'C:\\\\Users\\\\4shub\\\\AppData\\\\Local\\\\Temp\\\\tmp2k0mp5c_', '_tf_random_seed': None, '_save_summary_steps': 100, '_save_checkpoints_steps': None, '_save_checkpoints_secs': 600, '_session_config': None, '_keep_checkpoint_max': 5, '_keep_checkpoint_every_n_hours': 10000, '_log_step_count_steps': 100, '_train_distribute': None, '_device_fn': None, '_service': None, '_cluster_spec': <tensorflow.python.training.server_lib.ClusterSpec object at 0x000001CB3A193358>, '_task_type': 'worker', '_task_id': 0, '_global_id_in_cluster': 0, '_master': '', '_evaluation_master': '', '_is_chief': True, '_num_ps_replicas': 0, '_num_worker_replicas': 1}\n"
     ]
    }
   ],
   "source": [
    "estimator=tf.estimator.DNNClassifier(feature_columns=feature_columns,hidden_units=[10,10],n_classes=2)"
   ]
  },
  {
   "cell_type": "code",
   "execution_count": 20,
   "metadata": {},
   "outputs": [],
   "source": [
    "def my_input_fn():\n",
    "    df=pd.read_csv(\"C:\\\\Users\\\\4shub\\\\Desktop\\\\summertrainning\\\\train.csv\")\n",
    "    df=df.drop([\"Cabin\",\"PassengerId\",\"Name\",\"Fare\",\"Ticket\"],axis=1)\n",
    "    #df=df.drop([\"Id\"],axis=1)\n",
    "    #y=df[\"Species\"]\n",
    "    df=df.join(pd.get_dummies(df[\"Embarked\"]))\n",
    "    df=df.drop([\"Embarked\"],axis=1)\n",
    "    df=df.join(pd.get_dummies(df[\"Sex\"]))\n",
    "    df=df.drop([\"Sex\"],axis=1)\n",
    "    df=df.dropna()\n",
    "    y=df[\"Survived\"]\n",
    "    y=np.array(y,dtype=np.int32)\n",
    "    df=df.drop([\"Survived\"],axis=1)\n",
    "    \n",
    "    x=(df)\n",
    "    x_train,y_train,x_test,y_test=sklearn.model_selection.train_test_split(x,y,test_size=0.2)\n",
    "    #print(x)\n",
    "    return x_train,x_test,y_train,y_test"
   ]
  },
  {
   "cell_type": "code",
   "execution_count": 21,
   "metadata": {},
   "outputs": [
    {
     "data": {
      "text/plain": [
       "(     Pclass   Age  SibSp  Parch  C  Q  S  female  male\n",
       " 233       3   5.0      4      2  0  0  1       1     0\n",
       " 366       1  60.0      1      0  1  0  0       1     0\n",
       " 327       2  36.0      0      0  0  0  1       1     0\n",
       " 771       3  48.0      0      0  0  0  1       0     1\n",
       " 505       1  18.0      1      0  1  0  0       0     1\n",
       " 56        2  21.0      0      0  0  0  1       1     0\n",
       " 27        1  19.0      3      2  0  0  1       0     1\n",
       " 638       3  41.0      0      5  0  0  1       1     0\n",
       " 266       3  16.0      4      1  0  0  1       0     1\n",
       " 60        3  22.0      0      0  1  0  0       0     1\n",
       " 259       2  50.0      0      1  0  0  1       1     0\n",
       " 323       2  22.0      1      1  0  0  1       1     0\n",
       " 668       3  43.0      0      0  0  0  1       0     1\n",
       " 74        3  32.0      0      0  0  0  1       0     1\n",
       " 190       2  32.0      0      0  0  0  1       1     0\n",
       " 526       2  50.0      0      0  0  0  1       1     0\n",
       " 887       1  19.0      0      0  0  0  1       1     0\n",
       " 770       3  24.0      0      0  0  0  1       0     1\n",
       " 443       2  28.0      0      0  0  0  1       1     0\n",
       " 191       2  19.0      0      0  0  0  1       0     1\n",
       " 102       1  21.0      0      1  0  0  1       0     1\n",
       " 234       2  24.0      0      0  0  0  1       0     1\n",
       " 713       3  29.0      0      0  0  0  1       0     1\n",
       " 197       3  42.0      0      1  0  0  1       0     1\n",
       " 471       3  38.0      0      0  0  0  1       0     1\n",
       " 155       1  51.0      0      1  1  0  0       0     1\n",
       " 210       3  24.0      0      0  0  0  1       0     1\n",
       " 434       1  50.0      1      0  0  0  1       0     1\n",
       " 349       3  42.0      0      0  0  0  1       0     1\n",
       " 131       3  20.0      0      0  0  0  1       0     1\n",
       " ..      ...   ...    ...    ... .. .. ..     ...   ...\n",
       " 333       3  16.0      2      0  0  0  1       0     1\n",
       " 162       3  26.0      0      0  0  0  1       0     1\n",
       " 144       2  18.0      0      0  0  0  1       0     1\n",
       " 341       1  24.0      3      2  0  0  1       1     0\n",
       " 283       3  19.0      0      0  0  0  1       0     1\n",
       " 356       1  22.0      0      1  0  0  1       1     0\n",
       " 885       3  39.0      0      5  0  1  0       1     0\n",
       " 424       3  18.0      1      1  0  0  1       0     1\n",
       " 290       1  26.0      0      0  0  0  1       1     0\n",
       " 188       3  40.0      1      1  0  1  0       0     1\n",
       " 654       3  18.0      0      0  0  1  0       1     0\n",
       " 414       3  44.0      0      0  0  0  1       0     1\n",
       " 325       1  36.0      0      0  1  0  0       1     0\n",
       " 381       3   1.0      0      2  1  0  0       1     0\n",
       " 609       1  40.0      0      0  0  0  1       1     0\n",
       " 561       3  40.0      0      0  0  0  1       0     1\n",
       " 247       2  24.0      0      2  0  0  1       1     0\n",
       " 92        1  46.0      1      0  0  0  1       0     1\n",
       " 536       1  45.0      0      0  0  0  1       0     1\n",
       " 521       3  22.0      0      0  0  0  1       0     1\n",
       " 604       1  35.0      0      0  1  0  0       0     1\n",
       " 376       3  22.0      0      0  0  0  1       1     0\n",
       " 625       1  61.0      0      0  0  0  1       0     1\n",
       " 731       3  11.0      0      0  1  0  0       0     1\n",
       " 676       3  24.5      0      0  0  0  1       0     1\n",
       " 544       1  50.0      1      0  1  0  0       0     1\n",
       " 227       3  20.5      0      0  0  0  1       0     1\n",
       " 387       2  36.0      0      0  0  0  1       1     0\n",
       " 285       3  33.0      0      0  1  0  0       0     1\n",
       " 432       2  42.0      1      0  0  0  1       1     0\n",
       " \n",
       " [571 rows x 9 columns],\n",
       " array([1, 1, 1, 0, 0, 1, 0, 0, 0, 0, 1, 1, 0, 1, 1, 1, 1, 0, 1, 0, 0, 0,\n",
       "        0, 0, 0, 0, 0, 0, 0, 0, 0, 1, 1, 0, 1, 0, 0, 0, 0, 0, 0, 0, 0, 0,\n",
       "        0, 0, 1, 0, 0, 0, 0, 0, 0, 0, 1, 1, 1, 0, 0, 1, 0, 0, 1, 0, 0, 1,\n",
       "        0, 0, 1, 1, 0, 0, 0, 0, 1, 1, 0, 0, 1, 0, 0, 0, 1, 0, 0, 0, 1, 1,\n",
       "        0, 0, 0, 0, 0, 1, 0, 0, 0, 1, 1, 0, 0, 1, 0, 0, 1, 1, 1, 0, 0, 0,\n",
       "        0, 0, 1, 0, 1, 0, 0, 0, 0, 0, 0, 0, 1, 0, 1, 0, 1, 0, 1, 0, 1, 0,\n",
       "        0, 1, 1, 1, 1, 0, 1, 0, 0, 0, 1, 0, 1, 1, 1, 0, 1, 1, 0, 0, 1, 1,\n",
       "        1, 0, 1, 0, 0, 0, 0, 0, 0, 1, 0, 1, 0, 0, 0, 1, 0, 0, 0, 0, 1, 1,\n",
       "        1, 1, 0, 0, 0, 1, 0, 0, 0, 0, 0, 0, 0, 1, 0, 0, 0, 1, 0, 0, 0, 0,\n",
       "        1, 0, 1, 1, 1, 0, 0, 1, 0, 0, 1, 0, 1, 1, 0, 1, 0, 1, 0, 0, 1, 1,\n",
       "        1, 1, 1, 0, 0, 1, 1, 1, 0, 0, 1, 0, 0, 0, 0, 0, 0, 1, 0, 0, 0, 0,\n",
       "        0, 0, 0, 0, 1, 0, 0, 1, 0, 0, 0, 1, 0, 1, 0, 1, 0, 1, 0, 1, 1, 0,\n",
       "        1, 0, 1, 0, 0, 0, 1, 0, 1, 0, 0, 0, 0, 1, 0, 0, 0, 0, 1, 1, 0, 0,\n",
       "        0, 0, 1, 1, 0, 1, 0, 0, 0, 0, 1, 1, 0, 1, 1, 1, 0, 0, 1, 1, 0, 1,\n",
       "        0, 1, 1, 1, 0, 1, 1, 0, 0, 1, 0, 0, 0, 0, 1, 0, 1, 1, 0, 1, 0, 0,\n",
       "        0, 0, 0, 0, 0, 0, 0, 0, 0, 0, 1, 0, 1, 0, 1, 1, 1, 0, 1, 1, 0, 1,\n",
       "        0, 0, 1, 0, 0, 0, 0, 0, 1, 1, 0, 0, 0, 1, 0, 1, 1, 1, 1, 0, 1, 1,\n",
       "        0, 0, 1, 0, 0, 1, 0, 1, 1, 1, 0, 0, 1, 1, 1, 1, 0, 0, 1, 0, 1, 0,\n",
       "        1, 1, 0, 0, 1, 0, 0, 1, 0, 0, 0, 0, 1, 0, 0, 1, 0, 1, 0, 1, 1, 0,\n",
       "        1, 1, 0, 1, 0, 0, 1, 0, 0, 1, 0, 0, 1, 1, 1, 0, 1, 1, 1, 0, 0, 0,\n",
       "        0, 1, 0, 1, 0, 0, 0, 0, 0, 1, 0, 1, 0, 0, 1, 1, 1, 1, 1, 0, 1, 1,\n",
       "        0, 1, 0, 0, 0, 0, 1, 0, 1, 1, 0, 0, 0, 0, 0, 1, 1, 1, 0, 0, 1, 0,\n",
       "        0, 0, 1, 0, 1, 1, 0, 1, 0, 1, 0, 1, 1, 1, 1, 1, 1, 0, 0, 0, 0, 0,\n",
       "        1, 0, 1, 0, 0, 0, 1, 0, 0, 1, 0, 1, 1, 1, 1, 1, 0, 0, 0, 0, 0, 1,\n",
       "        0, 0, 1, 0, 0, 1, 0, 1, 1, 0, 0, 0, 1, 0, 0, 0, 1, 1, 1, 0, 0, 1,\n",
       "        0, 0, 1, 1, 1, 1, 0, 1, 0, 0, 0, 1, 1, 0, 0, 0, 0, 0, 1, 0, 1]),\n",
       "      Pclass   Age  SibSp  Parch  C  Q  S  female  male\n",
       " 422       3  29.0      0      0  0  0  1       0     1\n",
       " 49        3  18.0      1      0  0  0  1       1     0\n",
       " 389       2  17.0      0      0  1  0  0       1     0\n",
       " 530       2   2.0      1      1  0  0  1       1     0\n",
       " 450       2  36.0      1      2  0  0  1       0     1\n",
       " 506       2  33.0      0      2  0  0  1       1     0\n",
       " 809       1  33.0      1      0  0  0  1       1     0\n",
       " 646       3  19.0      0      0  0  0  1       0     1\n",
       " 603       3  44.0      0      0  0  0  1       0     1\n",
       " 322       2  30.0      0      0  0  1  0       1     0\n",
       " 797       3  31.0      0      0  0  0  1       1     0\n",
       " 818       3  43.0      0      0  0  0  1       0     1\n",
       " 313       3  28.0      0      0  0  0  1       0     1\n",
       " 230       1  35.0      1      0  0  0  1       1     0\n",
       " 11        1  58.0      0      0  0  0  1       1     0\n",
       " 441       3  20.0      0      0  0  0  1       0     1\n",
       " 179       3  36.0      0      0  0  0  1       0     1\n",
       " 44        3  19.0      0      0  0  1  0       1     0\n",
       " 883       2  28.0      0      0  0  0  1       0     1\n",
       " 523       1  44.0      0      1  1  0  0       1     0\n",
       " 150       2  51.0      0      0  0  0  1       0     1\n",
       " 398       2  23.0      0      0  0  0  1       0     1\n",
       " 535       2   7.0      0      2  0  0  1       1     0\n",
       " 514       3  24.0      0      0  0  0  1       0     1\n",
       " 605       3  36.0      1      0  0  0  1       0     1\n",
       " 581       1  39.0      1      1  1  0  0       1     0\n",
       " 622       3  20.0      1      1  1  0  0       0     1\n",
       " 491       3  21.0      0      0  0  0  1       0     1\n",
       " 591       1  52.0      1      0  1  0  0       1     0\n",
       " 642       3   2.0      3      2  0  0  1       1     0\n",
       " ..      ...   ...    ...    ... .. .. ..     ...   ...\n",
       " 111       3  14.5      1      0  1  0  0       1     0\n",
       " 874       2  28.0      1      0  1  0  0       1     0\n",
       " 486       1  35.0      1      0  0  0  1       1     0\n",
       " 138       3  16.0      0      0  0  0  1       0     1\n",
       " 808       2  39.0      0      0  0  0  1       0     1\n",
       " 119       3   2.0      4      2  0  0  1       1     0\n",
       " 355       3  28.0      0      0  0  0  1       0     1\n",
       " 637       2  31.0      1      1  0  0  1       0     1\n",
       " 363       3  35.0      0      0  0  0  1       0     1\n",
       " 827       2   1.0      0      2  1  0  0       0     1\n",
       " 152       3  55.5      0      0  0  0  1       0     1\n",
       " 518       2  36.0      1      0  0  0  1       1     0\n",
       " 583       1  36.0      0      0  1  0  0       0     1\n",
       " 623       3  21.0      0      0  0  0  1       0     1\n",
       " 751       3   6.0      0      1  0  0  1       0     1\n",
       " 882       3  22.0      0      0  0  0  1       1     0\n",
       " 811       3  39.0      0      0  0  0  1       0     1\n",
       " 621       1  42.0      1      0  0  0  1       0     1\n",
       " 595       3  36.0      1      1  0  0  1       0     1\n",
       " 395       3  22.0      0      0  0  0  1       0     1\n",
       " 100       3  28.0      0      0  0  0  1       1     0\n",
       " 690       1  31.0      1      0  0  0  1       0     1\n",
       " 228       2  18.0      0      0  0  0  1       0     1\n",
       " 6         1  54.0      0      0  0  0  1       0     1\n",
       " 683       3  14.0      5      2  0  0  1       0     1\n",
       " 445       1   4.0      0      2  0  0  1       0     1\n",
       " 702       3  18.0      0      1  1  0  0       1     0\n",
       " 340       2   2.0      1      1  0  0  1       0     1\n",
       " 328       3  31.0      1      1  0  0  1       1     0\n",
       " 712       1  48.0      1      0  0  0  1       0     1\n",
       " \n",
       " [143 rows x 9 columns],\n",
       " array([0, 0, 1, 1, 0, 1, 1, 0, 0, 1, 1, 0, 0, 1, 1, 0, 0, 1, 0, 1, 0, 0,\n",
       "        1, 0, 0, 1, 1, 0, 1, 0, 1, 1, 1, 1, 0, 0, 0, 0, 0, 0, 0, 0, 0, 0,\n",
       "        0, 1, 0, 0, 1, 1, 0, 0, 0, 0, 1, 1, 0, 0, 0, 0, 0, 1, 1, 0, 1, 0,\n",
       "        1, 1, 0, 0, 0, 1, 1, 1, 0, 1, 1, 1, 1, 0, 1, 0, 0, 1, 0, 0, 1, 1,\n",
       "        1, 0, 0, 0, 1, 1, 0, 1, 1, 0, 0, 0, 0, 0, 0, 0, 0, 1, 0, 0, 0, 1,\n",
       "        1, 0, 1, 0, 1, 1, 0, 0, 0, 0, 0, 0, 1, 0, 1, 0, 0, 1, 0, 0, 1, 0,\n",
       "        0, 0, 1, 0, 0, 0, 1, 0, 1, 1, 1]))"
      ]
     },
     "execution_count": 21,
     "metadata": {},
     "output_type": "execute_result"
    }
   ],
   "source": [
    "my_input_fn()"
   ]
  },
  {
   "cell_type": "code",
   "execution_count": 22,
   "metadata": {},
   "outputs": [],
   "source": [
    "X_TRAIN,Y_TRAIN,X_TEST,Y_TEST=my_input_fn()"
   ]
  },
  {
   "cell_type": "code",
   "execution_count": 23,
   "metadata": {},
   "outputs": [],
   "source": [
    "def my_input_fn_train():\n",
    "    return dict(X_TRAIN),Y_TRAIN\n",
    "def my_input_fn_test():\n",
    "    return dict(X_TEST),Y_TEST\n"
   ]
  },
  {
   "cell_type": "code",
   "execution_count": 24,
   "metadata": {},
   "outputs": [
    {
     "name": "stdout",
     "output_type": "stream",
     "text": [
      "INFO:tensorflow:Could not find trained model in model_dir: C:\\Users\\4shub\\AppData\\Local\\Temp\\tmp2k0mp5c_, running initialization to evaluate.\n",
      "INFO:tensorflow:Calling model_fn.\n",
      "WARNING:tensorflow:Trapezoidal rule is known to produce incorrect PR-AUCs; please switch to \"careful_interpolation\" instead.\n",
      "WARNING:tensorflow:Trapezoidal rule is known to produce incorrect PR-AUCs; please switch to \"careful_interpolation\" instead.\n",
      "INFO:tensorflow:Done calling model_fn.\n",
      "INFO:tensorflow:Starting evaluation at 2018-07-13-09:06:20\n",
      "INFO:tensorflow:Graph was finalized.\n",
      "INFO:tensorflow:Running local_init_op.\n",
      "INFO:tensorflow:Done running local_init_op.\n",
      "INFO:tensorflow:Evaluation [5/50]\n",
      "INFO:tensorflow:Evaluation [10/50]\n",
      "INFO:tensorflow:Evaluation [15/50]\n",
      "INFO:tensorflow:Evaluation [20/50]\n",
      "INFO:tensorflow:Evaluation [25/50]\n",
      "INFO:tensorflow:Evaluation [30/50]\n",
      "INFO:tensorflow:Evaluation [35/50]\n",
      "INFO:tensorflow:Evaluation [40/50]\n",
      "INFO:tensorflow:Evaluation [45/50]\n",
      "INFO:tensorflow:Evaluation [50/50]\n",
      "INFO:tensorflow:Finished evaluation at 2018-07-13-09:06:21\n",
      "INFO:tensorflow:Saving dict for global step 0: accuracy = 0.71978986, accuracy_baseline = 0.6007005, auc = 0.7759961, auc_precision_recall = 0.6996728, average_loss = 0.60794175, global_step = 0, label/mean = 0.39929947, loss = 347.13474, precision = 0.63178295, prediction/mean = 0.463051, recall = 0.7149123\n"
     ]
    },
    {
     "data": {
      "text/plain": [
       "{'accuracy': 0.71978986,\n",
       " 'accuracy_baseline': 0.6007005,\n",
       " 'auc': 0.7759961,\n",
       " 'auc_precision_recall': 0.6996728,\n",
       " 'average_loss': 0.60794175,\n",
       " 'global_step': 0,\n",
       " 'label/mean': 0.39929947,\n",
       " 'loss': 347.13474,\n",
       " 'precision': 0.63178295,\n",
       " 'prediction/mean': 0.463051,\n",
       " 'recall': 0.7149123}"
      ]
     },
     "execution_count": 24,
     "metadata": {},
     "output_type": "execute_result"
    }
   ],
   "source": [
    "estimator.evaluate(input_fn=my_input_fn_train,steps=100)"
   ]
  },
  {
   "cell_type": "code",
   "execution_count": null,
   "metadata": {},
   "outputs": [],
   "source": []
  }
 ],
 "metadata": {
  "kernelspec": {
   "display_name": "Python 3",
   "language": "python",
   "name": "python3"
  },
  "language_info": {
   "codemirror_mode": {
    "name": "ipython",
    "version": 3
   },
   "file_extension": ".py",
   "mimetype": "text/x-python",
   "name": "python",
   "nbconvert_exporter": "python",
   "pygments_lexer": "ipython3",
   "version": "3.6.4"
  }
 },
 "nbformat": 4,
 "nbformat_minor": 2
}
